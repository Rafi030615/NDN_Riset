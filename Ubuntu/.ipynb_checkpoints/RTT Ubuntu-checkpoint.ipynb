{
 "cells": [
  {
   "cell_type": "markdown",
   "id": "ebb72ee7",
   "metadata": {},
   "source": [
    "## Skenario 1"
   ]
  },
  {
   "cell_type": "code",
   "execution_count": null,
   "id": "43809f52",
   "metadata": {},
   "outputs": [],
   "source": [
    "import numpy as np\n",
    "import pandas as pd\n",
    "import matplotlib.pyplot as plt"
   ]
  },
  {
   "cell_type": "code",
   "execution_count": null,
   "id": "fa40cd39",
   "metadata": {},
   "outputs": [],
   "source": [
    "for i in range(1, 6):\n",
    "    filepath = rf\"Data\\skenario{i}\\log1-1-{i}.csv\"\n",
    "    globals()[f'z1{i}'] = pd.read_csv(filepath, index_col = False)"
   ]
  },
  {
   "cell_type": "code",
   "execution_count": null,
   "id": "b27fd250",
   "metadata": {},
   "outputs": [],
   "source": [
    "dfs = [z11, z12, z13, z14, z15]\n",
    "tinggi = []\n",
    "for df in dfs:\n",
    "    tinggi.append(df.loc[0][\"AverageRTT(ms)\"])\n",
    "    \n",
    "datar = [1,2,3,4,5]\n",
    "plt.figure(figsize=(10,5))\n",
    "plt.bar(datar, tinggi, width = 0.5)\n",
    "plt.ylabel(\"Average RTT\")\n",
    "plt.title(\"RTT\")\n",
    "plt.show()"
   ]
  },
  {
   "cell_type": "code",
   "execution_count": null,
   "id": "cc02b79a",
   "metadata": {},
   "outputs": [],
   "source": [
    "z11 = z11.drop(z11.index[0])"
   ]
  },
  {
   "cell_type": "code",
   "execution_count": null,
   "id": "49ac3109",
   "metadata": {},
   "outputs": [],
   "source": [
    "plt.figure(figsize=(10,10))\n",
    "plt.plot(z11['PatternID'], z11['InterestSent'], label='Interest')\n",
    "plt.ylabel('InterestSent')\n",
    "plt.xlabel('PatternID')\n",
    "plt.title(f'Zipf for z{i}')\n",
    "plt.show()"
   ]
  },
  {
   "cell_type": "code",
   "execution_count": null,
   "id": "433c50cb",
   "metadata": {},
   "outputs": [],
   "source": [
    "for i in range(1, 6):\n",
    "    filepath = rf\"skenario1\\skenario1-2-{i}\\log1-2-{i}.csv\"\n",
    "    globals()[f'z2{i}'] = pd.read_csv(filepath, index_col = False)"
   ]
  },
  {
   "cell_type": "code",
   "execution_count": null,
   "id": "96ac1887",
   "metadata": {},
   "outputs": [],
   "source": [
    "dfs = [z21, z22, z23, z24, z25]\n",
    "tinggi = []\n",
    "for df in dfs:\n",
    "    tinggi.append(df.loc[0][\"AverageRTT(ms)\"])\n",
    "    \n",
    "datar = [1,2,3,4,5]\n",
    "plt.figure(figsize=(10,5))\n",
    "plt.bar(datar, tinggi, width = 0.5)\n",
    "plt.ylabel(\"Average RTT\")\n",
    "plt.title(\"RTT\")\n",
    "plt.show()"
   ]
  },
  {
   "cell_type": "code",
   "execution_count": null,
   "id": "4653697d",
   "metadata": {},
   "outputs": [],
   "source": [
    "for i in range(1, 6):\n",
    "    filepath = rf\"skenario1\\skenario1-3-{i}\\log1-3-{i}.csv\"\n",
    "    globals()[f'z3{i}'] = pd.read_csv(filepath, index_col = False)"
   ]
  },
  {
   "cell_type": "code",
   "execution_count": null,
   "id": "a10a75e9",
   "metadata": {},
   "outputs": [],
   "source": [
    "dfs = [z31, z32, z33, z34, z35]\n",
    "tinggi = []\n",
    "for df in dfs:\n",
    "    tinggi.append(df.loc[0][\"AverageRTT(ms)\"])\n",
    "    \n",
    "datar = [1,2,3,4,5]\n",
    "plt.figure(figsize=(10,5))\n",
    "plt.bar(datar, tinggi, width = 0.5)\n",
    "plt.ylabel(\"Average RTT\")\n",
    "plt.title(\"RTT\")\n",
    "plt.show()"
   ]
  },
  {
   "cell_type": "code",
   "execution_count": null,
   "id": "a5006a71",
   "metadata": {},
   "outputs": [],
   "source": [
    "z33"
   ]
  },
  {
   "cell_type": "code",
   "execution_count": null,
   "id": "dd764efa",
   "metadata": {},
   "outputs": [],
   "source": [
    "dfs = [z12, z22, z33]\n",
    "tinggi = []\n",
    "for df in dfs:\n",
    "    tinggi.append(df.loc[0][\"AverageRTT(ms)\"])\n",
    "\n",
    "datar = [1, 2, 3]\n",
    "plt.figure(figsize=(10, 5))\n",
    "plt.bar(datar, tinggi, width=0.5)\n",
    "\n",
    "# Menambahkan nilai pada setiap batang\n",
    "for i, t in enumerate(tinggi):\n",
    "    plt.text(datar[i], t, str(t), ha=\"center\", va=\"bottom\")\n",
    "\n",
    "plt.ylabel(\"Average RTT\")\n",
    "plt.title(\"RTT\")\n",
    "plt.show()"
   ]
  },
  {
   "cell_type": "markdown",
   "id": "f8051734",
   "metadata": {},
   "source": [
    "## Skenario 2"
   ]
  },
  {
   "cell_type": "code",
   "execution_count": null,
   "id": "003d024d",
   "metadata": {},
   "outputs": [],
   "source": [
    "for i in range(1, 6):\n",
    "    filepath = rf\"skenario2\\skenario2-1-{i}\\log2-1-{i}.csv\"\n",
    "    globals()[f'z21{i}'] = pd.read_csv(filepath, index_col = False)"
   ]
  },
  {
   "cell_type": "code",
   "execution_count": null,
   "id": "2d2e6877",
   "metadata": {},
   "outputs": [],
   "source": [
    "dfs = [z211, z212, z213, z214, z215]\n",
    "tinggi = []\n",
    "for df in dfs:\n",
    "    tinggi.append(df.loc[0][\"AverageRTT(ms)\"])\n",
    "    \n",
    "datar = [1,2,3,4,5]\n",
    "plt.figure(figsize=(10,5))\n",
    "plt.bar(datar, tinggi, width = 0.5)\n",
    "plt.ylabel(\"Average RTT\")\n",
    "plt.title(\"RTT\")\n",
    "plt.show()"
   ]
  },
  {
   "cell_type": "code",
   "execution_count": null,
   "id": "2b5288c4",
   "metadata": {},
   "outputs": [],
   "source": [
    "for i in range(1, 6):\n",
    "    filepath = rf\"skenario2\\skenario2-2-{i}\\log2-2-{i}.csv\"\n",
    "    globals()[f'z22{i}'] = pd.read_csv(filepath, index_col = False)"
   ]
  },
  {
   "cell_type": "code",
   "execution_count": null,
   "id": "abee4dc5",
   "metadata": {},
   "outputs": [],
   "source": [
    "dfs = [z221, z222, z223, z224, z225]\n",
    "tinggi = []\n",
    "for df in dfs:\n",
    "    tinggi.append(df.loc[0][\"AverageRTT(ms)\"])\n",
    "    \n",
    "datar = [1,2,3,4,5]\n",
    "plt.figure(figsize=(10,5))\n",
    "plt.bar(datar, tinggi, width = 0.5)\n",
    "plt.ylabel(\"Average RTT\")\n",
    "plt.title(\"RTT\")\n",
    "plt.show()"
   ]
  },
  {
   "cell_type": "code",
   "execution_count": null,
   "id": "a9346405",
   "metadata": {},
   "outputs": [],
   "source": [
    "for i in range(1, 6):\n",
    "    filepath = rf\"skenario2\\skenario2-3-{i}\\log2-3-{i}.csv\"\n",
    "    globals()[f'z23{i}'] = pd.read_csv(filepath, index_col = False)"
   ]
  },
  {
   "cell_type": "code",
   "execution_count": null,
   "id": "211dc299",
   "metadata": {},
   "outputs": [],
   "source": [
    "dfs = [z231, z232, z233, z234, z235]\n",
    "tinggi = []\n",
    "for df in dfs:\n",
    "    tinggi.append(df.loc[0][\"AverageRTT(ms)\"])\n",
    "    \n",
    "datar = [1,2,3,4,5]\n",
    "plt.figure(figsize=(10,5))\n",
    "plt.bar(datar, tinggi, width = 0.5)\n",
    "plt.ylabel(\"Average RTT\")\n",
    "plt.title(\"RTT\")\n",
    "plt.show()"
   ]
  },
  {
   "cell_type": "code",
   "execution_count": null,
   "id": "6f811b80",
   "metadata": {},
   "outputs": [],
   "source": [
    "dfs = [z211, z222, z233]\n",
    "tinggi = []\n",
    "for df in dfs:\n",
    "    tinggi.append(df.loc[0][\"AverageRTT(ms)\"])\n",
    "\n",
    "datar = [1, 2, 3]\n",
    "plt.figure(figsize=(10, 5))\n",
    "plt.bar(datar, tinggi, width=0.5)\n",
    "\n",
    "# Menambahkan nilai pada setiap batang\n",
    "for i, t in enumerate(tinggi):\n",
    "    plt.text(datar[i], t, str(t), ha=\"center\", va=\"bottom\")\n",
    "\n",
    "plt.ylabel(\"Average RTT\")\n",
    "plt.title(\"RTT\")\n",
    "plt.show()"
   ]
  },
  {
   "cell_type": "markdown",
   "id": "ccf720bd",
   "metadata": {},
   "source": [
    "## Skenario 3"
   ]
  },
  {
   "cell_type": "code",
   "execution_count": null,
   "id": "07cd37cb",
   "metadata": {},
   "outputs": [],
   "source": [
    "for i in range(1, 6):\n",
    "    filepath = rf\"skenario3\\skenario3-1-{i}\\log3-1-{i}.csv\"\n",
    "    globals()[f'z31{i}'] = pd.read_csv(filepath, index_col = False)"
   ]
  },
  {
   "cell_type": "code",
   "execution_count": null,
   "id": "ab0ec64f",
   "metadata": {},
   "outputs": [],
   "source": [
    "dfs = [z311, z312, z313, z314, z315]\n",
    "tinggi = []\n",
    "for df in dfs:\n",
    "    tinggi.append(df.loc[0][\"AverageRTT(ms)\"])\n",
    "    \n",
    "datar = [1,2,3,4,5]\n",
    "plt.figure(figsize=(10,5))\n",
    "plt.bar(datar, tinggi, width = 0.5)\n",
    "plt.ylabel(\"Average RTT\")\n",
    "plt.title(\"RTT\")\n",
    "plt.show()"
   ]
  },
  {
   "cell_type": "code",
   "execution_count": null,
   "id": "09be44d0",
   "metadata": {},
   "outputs": [],
   "source": [
    "for i in range(1, 6):\n",
    "    filepath = rf\"skenario3\\skenario3-2-{i}\\log3-2-{i}.csv\"\n",
    "    globals()[f'z32{i}'] = pd.read_csv(filepath, index_col = False)"
   ]
  },
  {
   "cell_type": "code",
   "execution_count": null,
   "id": "10b3dbd2",
   "metadata": {},
   "outputs": [],
   "source": [
    "dfs = [z321, z322, z323, z324, z325]\n",
    "tinggi = []\n",
    "for df in dfs:\n",
    "    tinggi.append(df.loc[0][\"AverageRTT(ms)\"])\n",
    "    \n",
    "datar = [1,2,3,4,5]\n",
    "plt.figure(figsize=(10,5))\n",
    "plt.bar(datar, tinggi, width = 0.5)\n",
    "plt.ylabel(\"Average RTT\")\n",
    "plt.title(\"RTT\")\n",
    "plt.show()"
   ]
  },
  {
   "cell_type": "code",
   "execution_count": null,
   "id": "9ea17ddf",
   "metadata": {},
   "outputs": [],
   "source": [
    "for i in range(1, 6):\n",
    "    filepath = rf\"skenario3\\skenario3-3-{i}\\log3-3-{i}.csv\"\n",
    "    globals()[f'z33{i}'] = pd.read_csv(filepath, index_col = False)"
   ]
  },
  {
   "cell_type": "code",
   "execution_count": null,
   "id": "b0d4ae8e",
   "metadata": {},
   "outputs": [],
   "source": [
    "dfs = [z331, z332, z333, z334, z335]\n",
    "tinggi = []\n",
    "for df in dfs:\n",
    "    tinggi.append(df.loc[0][\"AverageRTT(ms)\"])\n",
    "    \n",
    "datar = [1,2,3,4,5]\n",
    "plt.figure(figsize=(10,5))\n",
    "plt.bar(datar, tinggi, width = 0.5)\n",
    "plt.ylabel(\"Average RTT\")\n",
    "plt.title(\"RTT\")\n",
    "plt.show()"
   ]
  },
  {
   "cell_type": "code",
   "execution_count": null,
   "id": "aa6aa7fa",
   "metadata": {
    "scrolled": true
   },
   "outputs": [],
   "source": [
    "dfs = [z311, z321, z333]\n",
    "tinggi = []\n",
    "for df in dfs:\n",
    "    tinggi.append(df.loc[0][\"AverageRTT(ms)\"])\n",
    "\n",
    "datar = [1, 2, 3]\n",
    "plt.figure(figsize=(10, 5))\n",
    "plt.bar(datar, tinggi, width=0.5)\n",
    "\n",
    "# Menambahkan nilai pada setiap batang\n",
    "for i, t in enumerate(tinggi):\n",
    "    plt.text(datar[i], t, str(t), ha=\"center\", va=\"bottom\")\n",
    "\n",
    "plt.ylabel(\"Average RTT\")\n",
    "plt.title(\"RTT\")\n",
    "plt.show()"
   ]
  },
  {
   "cell_type": "code",
   "execution_count": null,
   "id": "5e57e65d",
   "metadata": {},
   "outputs": [],
   "source": []
  }
 ],
 "metadata": {
  "kernelspec": {
   "display_name": "Python 3 (ipykernel)",
   "language": "python",
   "name": "python3"
  },
  "language_info": {
   "codemirror_mode": {
    "name": "ipython",
    "version": 3
   },
   "file_extension": ".py",
   "mimetype": "text/x-python",
   "name": "python",
   "nbconvert_exporter": "python",
   "pygments_lexer": "ipython3",
   "version": "3.9.12"
  }
 },
 "nbformat": 4,
 "nbformat_minor": 5
}
